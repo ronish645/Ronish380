{
  "cells": [
    {
      "cell_type": "markdown",
      "metadata": {
        "id": "view-in-github",
        "colab_type": "text"
      },
      "source": [
        "<a href=\"https://colab.research.google.com/github/ronish645/Ronish380/blob/main/PandasDataManipulation_2.ipynb\" target=\"_parent\"><img src=\"https://colab.research.google.com/assets/colab-badge.svg\" alt=\"Open In Colab\"/></a>"
      ]
    },
    {
      "cell_type": "code",
      "execution_count": 2,
      "id": "0306f6a6",
      "metadata": {
        "id": "0306f6a6"
      },
      "outputs": [],
      "source": [
        "import pandas as pd"
      ]
    },
    {
      "cell_type": "markdown",
      "id": "7fd12471-9941-4cbc-a67a-c913b2068e0b",
      "metadata": {
        "tags": [],
        "id": "7fd12471-9941-4cbc-a67a-c913b2068e0b"
      },
      "source": [
        "## Data cleaning\n",
        "\n",
        "In this section, we will take a look at creating, renaming, and dropping columns; type conversion; and sorting &ndash; all of which make our analysis easier. We will be working with the 2019 Yellow Taxi Trip Data provided by NYC Open Data."
      ]
    },
    {
      "cell_type": "markdown",
      "id": "f5681a82-0b43-4735-8a4b-2e895728305e",
      "metadata": {
        "id": "f5681a82-0b43-4735-8a4b-2e895728305e"
      },
      "source": [
        "### Read the data"
      ]
    },
    {
      "cell_type": "code",
      "execution_count": 3,
      "id": "cde002d5-248e-4dd7-b272-82947b254297",
      "metadata": {
        "tags": [],
        "id": "cde002d5-248e-4dd7-b272-82947b254297"
      },
      "outputs": [],
      "source": [
        "df = pd.read_csv('2019_Yellow_Taxi_Trip_Data.csv')"
      ]
    },
    {
      "cell_type": "markdown",
      "id": "ff071dc1",
      "metadata": {
        "id": "ff071dc1"
      },
      "source": [
        "##### DIsplaying the column names"
      ]
    },
    {
      "cell_type": "code",
      "execution_count": 4,
      "id": "89565118",
      "metadata": {
        "colab": {
          "base_uri": "https://localhost:8080/"
        },
        "id": "89565118",
        "outputId": "a169f675-9b8f-4100-a9d8-26d454b4ca5c"
      },
      "outputs": [
        {
          "output_type": "stream",
          "name": "stdout",
          "text": [
            "['vendorid', 'tpep_pickup_datetime', 'tpep_dropoff_datetime', 'passenger_count', 'trip_distance', 'ratecodeid', 'store_and_fwd_flag', 'pulocationid', 'dolocationid', 'payment_type', 'fare_amount', 'extra', 'mta_tax', 'tip_amount', 'tolls_amount', 'improvement_surcharge', 'total_amount', 'congestion_surcharge']\n"
          ]
        }
      ],
      "source": [
        "column_names = df.columns.tolist()\n",
        "print(column_names)"
      ]
    },
    {
      "cell_type": "markdown",
      "id": "b01e6da8-4a3a-4fc0-9e2f-c83974c0b76a",
      "metadata": {
        "tags": [],
        "id": "b01e6da8-4a3a-4fc0-9e2f-c83974c0b76a"
      },
      "source": [
        "### Dropping columns\n",
        "Let's start by dropping the ID columns and the `store_and_fwd_flag` column, which we won't be using."
      ]
    },
    {
      "cell_type": "raw",
      "id": "b3ef8681-451c-4940-ba75-07567c7d793d",
      "metadata": {
        "id": "b3ef8681-451c-4940-ba75-07567c7d793d"
      },
      "source": [
        "The dollar sign $\n",
        "is used to check if a matching character is the last character in the string. For example, the regular expression (at\\.)$ means: a lowercase a, followed by a lowercase t, followed by a . character and the matcher must be at the end of the string."
      ]
    },
    {
      "cell_type": "markdown",
      "id": "34110f49-e0d6-4478-84dd-518d8dd8bac7",
      "metadata": {
        "id": "34110f49-e0d6-4478-84dd-518d8dd8bac7"
      },
      "source": [
        "\"(at\\.)\" => The fat cat. sat. on the mat.\n",
        "\n",
        "\"(at\\.)$\" => The fat cat. sat. on the mat."
      ]
    },
    {
      "cell_type": "markdown",
      "id": "d0babb89",
      "metadata": {
        "id": "d0babb89"
      },
      "source": [
        "##### Dropping two columns"
      ]
    },
    {
      "cell_type": "code",
      "execution_count": 5,
      "id": "980b8753-63d6-447c-b473-ff282afeb7b5",
      "metadata": {
        "id": "980b8753-63d6-447c-b473-ff282afeb7b5"
      },
      "outputs": [],
      "source": [
        "columns_to_drop = ['vendorid', 'store_and_fwd_flag']\n",
        "df.drop(columns=columns_to_drop, inplace=True)"
      ]
    },
    {
      "cell_type": "markdown",
      "id": "30015664",
      "metadata": {
        "id": "30015664"
      },
      "source": [
        "##### Saving the modified dataframe into the same file"
      ]
    },
    {
      "cell_type": "code",
      "execution_count": 6,
      "id": "e753cf2a",
      "metadata": {
        "id": "e753cf2a"
      },
      "outputs": [],
      "source": [
        "output_file_path = ('2019_Yellow_Taxi_Trip_Data.csv')\n",
        "df.to_csv(output_file_path, index=False)"
      ]
    },
    {
      "cell_type": "markdown",
      "id": "e058290d",
      "metadata": {
        "id": "e058290d"
      },
      "source": [
        "##### Displaying the column names after modification"
      ]
    },
    {
      "cell_type": "code",
      "execution_count": 8,
      "id": "ba599424",
      "metadata": {
        "scrolled": true,
        "colab": {
          "base_uri": "https://localhost:8080/"
        },
        "id": "ba599424",
        "outputId": "b0a75200-a050-4d52-8498-66b5f8b217bf"
      },
      "outputs": [
        {
          "output_type": "stream",
          "name": "stdout",
          "text": [
            "Index(['tpep_pickup_datetime', 'tpep_dropoff_datetime', 'passenger_count',\n",
            "       'trip_distance', 'ratecodeid', 'pulocationid', 'dolocationid',\n",
            "       'payment_type', 'fare_amount', 'extra', 'mta_tax', 'tip_amount',\n",
            "       'tolls_amount', 'improvement_surcharge', 'total_amount',\n",
            "       'congestion_surcharge'],\n",
            "      dtype='object')\n"
          ]
        }
      ],
      "source": [
        "new_df = pd.read_csv('2019_Yellow_Taxi_Trip_Data.csv')\n",
        "print(new_df.columns)"
      ]
    },
    {
      "cell_type": "markdown",
      "id": "d087a69e-283b-451c-950e-5deab43f286b",
      "metadata": {
        "tags": [],
        "id": "d087a69e-283b-451c-950e-5deab43f286b"
      },
      "source": [
        "### Renaming columns\n",
        "\n",
        "Next, let's rename the datetime columns to 'pickup' and 'dropoff':"
      ]
    },
    {
      "cell_type": "markdown",
      "id": "2c3ae1d2",
      "metadata": {
        "id": "2c3ae1d2"
      },
      "source": [
        "##### Renaming column names and saving the modified dataframe into the the same file"
      ]
    },
    {
      "cell_type": "code",
      "execution_count": 9,
      "id": "9447f3c2-807a-49bd-b6f1-4fceb02bb618",
      "metadata": {
        "id": "9447f3c2-807a-49bd-b6f1-4fceb02bb618"
      },
      "outputs": [],
      "source": [
        "new_column_names = {'tpep_pickup_datetime': 'pickup', 'tpep_dropoff_datetime': 'dropoff'}\n",
        "df.rename(columns=new_column_names, inplace=True)\n",
        "output_file_path = ('2019_Yellow_Taxi_Trip_Data.csv')\n",
        "df.to_csv(output_file_path, index=False)"
      ]
    },
    {
      "cell_type": "markdown",
      "id": "01ee5ea8",
      "metadata": {
        "id": "01ee5ea8"
      },
      "source": [
        "##### Displaying the column names"
      ]
    },
    {
      "cell_type": "code",
      "execution_count": 11,
      "id": "e6744107",
      "metadata": {
        "colab": {
          "base_uri": "https://localhost:8080/"
        },
        "id": "e6744107",
        "outputId": "8856ab09-eb3d-4a20-b6e0-98316627858c"
      },
      "outputs": [
        {
          "output_type": "stream",
          "name": "stdout",
          "text": [
            "Index(['pickup', 'dropoff', 'passenger_count', 'trip_distance', 'ratecodeid',\n",
            "       'pulocationid', 'dolocationid', 'payment_type', 'fare_amount', 'extra',\n",
            "       'mta_tax', 'tip_amount', 'tolls_amount', 'improvement_surcharge',\n",
            "       'total_amount', 'congestion_surcharge'],\n",
            "      dtype='object')\n"
          ]
        }
      ],
      "source": [
        "new_df = pd.read_csv('2019_Yellow_Taxi_Trip_Data.csv')\n",
        "print(new_df.columns)"
      ]
    },
    {
      "cell_type": "markdown",
      "id": "cfbbec96-8af6-4e63-a42c-906028660c12",
      "metadata": {
        "tags": [],
        "id": "cfbbec96-8af6-4e63-a42c-906028660c12"
      },
      "source": [
        "### Type conversion\n",
        "\n",
        "Notice anything off with the data types?"
      ]
    },
    {
      "cell_type": "code",
      "execution_count": null,
      "id": "266348a2-0483-4e27-bcdc-a0d1bca25a29",
      "metadata": {
        "id": "266348a2-0483-4e27-bcdc-a0d1bca25a29"
      },
      "outputs": [],
      "source": []
    },
    {
      "cell_type": "markdown",
      "id": "aaf632e4-6fae-4784-8cb5-c9a34445a729",
      "metadata": {
        "tags": [],
        "id": "aaf632e4-6fae-4784-8cb5-c9a34445a729"
      },
      "source": [
        "Both `pickup` and `dropoff` should be stored as datetimes. Let's fix this:"
      ]
    },
    {
      "cell_type": "code",
      "execution_count": null,
      "id": "893be359-2e03-43b8-b346-c744adef69c7",
      "metadata": {
        "id": "893be359-2e03-43b8-b346-c744adef69c7"
      },
      "outputs": [],
      "source": []
    },
    {
      "cell_type": "markdown",
      "id": "d0d2ba68-5735-448d-a969-90e73a130aec",
      "metadata": {
        "tags": [],
        "id": "d0d2ba68-5735-448d-a969-90e73a130aec"
      },
      "source": [
        "### Creating new columns\n",
        "\n",
        "Let's calculate the following for each row:\n",
        "\n",
        "1. elapsed time of the trip\n",
        "2. the tip percentage\n",
        "3. the total taxes, tolls, fees, and surcharges\n",
        "4. the average speed of the taxi"
      ]
    },
    {
      "cell_type": "code",
      "execution_count": null,
      "id": "7476be51-935a-4f02-8f67-751b98053dda",
      "metadata": {
        "id": "7476be51-935a-4f02-8f67-751b98053dda"
      },
      "outputs": [],
      "source": []
    },
    {
      "cell_type": "code",
      "execution_count": 12,
      "id": "4c8fd361-09d7-40b0-ac09-c191da5de0f9",
      "metadata": {
        "tags": [],
        "id": "4c8fd361-09d7-40b0-ac09-c191da5de0f9"
      },
      "outputs": [],
      "source": [
        "#importing pandas and numpy libraries\n",
        "import pandas as pd\n",
        "import numpy as np\n",
        "\n",
        "# creating and initializing a nested list\n",
        "values_list = [[15, 2.5, 100], [20, 4.5, 50], [25, 5.2, 80],\n",
        "               [45, 5.8, 48], [40, 6.3, 70], [41, 6.4, 90],\n",
        "               [51, 2.3, 111]]\n",
        "\n",
        "# creating a pandas dataframe\n",
        "df = pd.DataFrame(values_list, columns=['Field_1', 'Field_2', 'Field_3'],\n",
        "                  index=['a', 'b', 'c', 'd', 'e', 'f', 'g'])\n",
        "\n",
        "# Apply function numpy.square() to square\n",
        "# the values of one row only i.e. row\n",
        "# with index name 'd'\n"
      ]
    },
    {
      "cell_type": "code",
      "execution_count": 13,
      "id": "f6154ba5-db54-486f-918c-ff92e3623724",
      "metadata": {
        "tags": [],
        "id": "f6154ba5-db54-486f-918c-ff92e3623724"
      },
      "outputs": [],
      "source": [
        "# importing pandas and numpylibraries\n",
        "import pandas as pd\n",
        "import numpy as np\n",
        "\n",
        "# creating and initializing a nested list\n",
        "values_list = [[1.5, 2.5, 10.0], [2.0, 4.5, 5.0], [2.5, 5.2, 8.0],\n",
        "               [4.5, 5.8, 4.8], [4.0, 6.3, 70], [4.1, 6.4, 9.0],\n",
        "               [5.1, 2.3, 11.1]]\n",
        "\n",
        "# creating a pandas dataframe\n",
        "df = pd.DataFrame(values_list, columns=['Field_1', 'Field_2', 'Field_3'],\n",
        "                  index=['a', 'b', 'c', 'd', 'e', 'f', 'g'])\n",
        "# Apply function numpy.square() to square\n",
        "# the values of 2 rows only i.e. with row\n",
        "# index name 'b' and 'f' only\n"
      ]
    },
    {
      "cell_type": "code",
      "execution_count": null,
      "id": "dd7d76e9-b4a6-43dd-b27d-9c18defcb4d2",
      "metadata": {
        "id": "dd7d76e9-b4a6-43dd-b27d-9c18defcb4d2"
      },
      "outputs": [],
      "source": []
    },
    {
      "cell_type": "markdown",
      "id": "dc85b016-65bb-4ac5-82b0-cda5b0f19b96",
      "metadata": {
        "tags": [],
        "id": "dc85b016-65bb-4ac5-82b0-cda5b0f19b96"
      },
      "source": [
        "### Sorting by values\n",
        "\n",
        "We can use the `sort_values()` method to sort based on any number of columns:"
      ]
    },
    {
      "cell_type": "markdown",
      "id": "c7ce2ef5-c4e7-4f00-ad0e-a579de48ea30",
      "metadata": {
        "id": "c7ce2ef5-c4e7-4f00-ad0e-a579de48ea30"
      },
      "source": [
        "### [Exercise 2.1](./workbook.ipynb#Exercise-2.1)\n",
        "\n",
        "##### Read in the meteorite data from the `Meteorite_Landings.csv` file, rename the `mass (g)` column to `mass`, and drop all the latitude and longitude columns. Sort the result by mass in descending order."
      ]
    },
    {
      "cell_type": "markdown",
      "id": "f78f45a4",
      "metadata": {
        "id": "f78f45a4"
      },
      "source": [
        "##### Load the CSV file into a DataFrame"
      ]
    },
    {
      "cell_type": "code",
      "execution_count": 15,
      "id": "685300d1-1ade-4e81-8a68-16fa8d6f01a7",
      "metadata": {
        "id": "685300d1-1ade-4e81-8a68-16fa8d6f01a7"
      },
      "outputs": [],
      "source": [
        "import pandas as pd\n",
        "df_met = pd.read_csv('Meteorite_Landings.csv')"
      ]
    },
    {
      "cell_type": "markdown",
      "id": "2e91ec34",
      "metadata": {
        "id": "2e91ec34"
      },
      "source": [
        "##### Rename the mass (g) column to mass"
      ]
    },
    {
      "cell_type": "code",
      "execution_count": 17,
      "id": "fdbe5597",
      "metadata": {
        "id": "fdbe5597"
      },
      "outputs": [],
      "source": [
        "df_met.rename(columns={'mass (g)': 'mass'}, inplace=True)"
      ]
    },
    {
      "cell_type": "markdown",
      "id": "680620c9",
      "metadata": {
        "id": "680620c9"
      },
      "source": [
        "##### Drop latitude and longitude columns"
      ]
    },
    {
      "cell_type": "code",
      "execution_count": 18,
      "id": "f48c18a6",
      "metadata": {
        "id": "f48c18a6"
      },
      "outputs": [],
      "source": [
        "df_met.drop(['reclat', 'reclong', 'GeoLocation'], axis=1, inplace=True)"
      ]
    },
    {
      "cell_type": "markdown",
      "id": "c94fb11c",
      "metadata": {
        "id": "c94fb11c"
      },
      "source": [
        "##### Sort the DataFrame by mass in descending order"
      ]
    },
    {
      "cell_type": "code",
      "execution_count": 19,
      "id": "297868b4",
      "metadata": {
        "id": "297868b4"
      },
      "outputs": [],
      "source": [
        "df_met.sort_values(by='mass', ascending=False, inplace=True)"
      ]
    },
    {
      "cell_type": "markdown",
      "id": "ac75c497",
      "metadata": {
        "id": "ac75c497"
      },
      "source": [
        "##### Storing the modified dataframe into the same file"
      ]
    },
    {
      "cell_type": "code",
      "execution_count": 20,
      "id": "3285dc44",
      "metadata": {
        "id": "3285dc44"
      },
      "outputs": [],
      "source": [
        "output_file_path = ('Meteorite_Landings.csv')\n",
        "df_met.to_csv(output_file_path, index=False)"
      ]
    },
    {
      "cell_type": "markdown",
      "id": "976f6d66",
      "metadata": {
        "id": "976f6d66"
      },
      "source": [
        "##### Displaying the data here (for the reference purpose) from the modified file"
      ]
    },
    {
      "cell_type": "code",
      "execution_count": 21,
      "id": "5ee15ceb",
      "metadata": {
        "colab": {
          "base_uri": "https://localhost:8080/"
        },
        "id": "5ee15ceb",
        "outputId": "c745c93d-2ff4-4950-e390-b477c0f6dc9e"
      },
      "outputs": [
        {
          "output_type": "stream",
          "name": "stdout",
          "text": [
            "                  name       id nametype      recclass        mass   fall  \\\n",
            "16392             Hoba  11890.0    Valid     Iron, IVB  60000000.0  Found   \n",
            "5373         Cape York   5262.0    Valid   Iron, IIIAB  58200000.0  Found   \n",
            "5365   Campo del Cielo   5247.0    Valid  Iron, IAB-MG  50000000.0  Found   \n",
            "5370     Canyon Diablo   5257.0    Valid  Iron, IAB-MG  30000000.0  Found   \n",
            "3455           Armanty   2335.0    Valid    Iron, IIIE  28000000.0  Found   \n",
            "\n",
            "                         year  \n",
            "16392  01/01/1920 12:00:00 AM  \n",
            "5373   01/01/1818 12:00:00 AM  \n",
            "5365   12/22/1575 12:00:00 AM  \n",
            "5370   01/01/1891 12:00:00 AM  \n",
            "3455   01/01/1898 12:00:00 AM  \n"
          ]
        }
      ],
      "source": [
        "print(df_met.head())"
      ]
    },
    {
      "cell_type": "code",
      "execution_count": null,
      "id": "cf54bc55",
      "metadata": {
        "id": "cf54bc55"
      },
      "outputs": [],
      "source": []
    }
  ],
  "metadata": {
    "kernelspec": {
      "display_name": "Python 3 (ipykernel)",
      "language": "python",
      "name": "python3"
    },
    "language_info": {
      "codemirror_mode": {
        "name": "ipython",
        "version": 3
      },
      "file_extension": ".py",
      "mimetype": "text/x-python",
      "name": "python",
      "nbconvert_exporter": "python",
      "pygments_lexer": "ipython3",
      "version": "3.10.9"
    },
    "colab": {
      "provenance": [],
      "include_colab_link": true
    }
  },
  "nbformat": 4,
  "nbformat_minor": 5
}