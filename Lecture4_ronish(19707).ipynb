{
  "nbformat": 4,
  "nbformat_minor": 0,
  "metadata": {
    "colab": {
      "provenance": [],
      "authorship_tag": "ABX9TyOlIaGvTau5bpCmn0eNIkVk",
      "include_colab_link": true
    },
    "kernelspec": {
      "name": "python3",
      "display_name": "Python 3"
    },
    "language_info": {
      "name": "python"
    }
  },
  "cells": [
    {
      "cell_type": "markdown",
      "metadata": {
        "id": "view-in-github",
        "colab_type": "text"
      },
      "source": [
        "<a href=\"https://colab.research.google.com/github/ronish645/Ronish380/blob/main/Lecture4_ronish(19707).ipynb\" target=\"_parent\"><img src=\"https://colab.research.google.com/assets/colab-badge.svg\" alt=\"Open In Colab\"/></a>"
      ]
    },
    {
      "cell_type": "code",
      "execution_count": 1,
      "metadata": {
        "colab": {
          "base_uri": "https://localhost:8080/"
        },
        "id": "UDO5IbAJlwTA",
        "outputId": "5fe17e96-3170-4727-dbc0-55c396f8d44e"
      },
      "outputs": [
        {
          "output_type": "stream",
          "name": "stdout",
          "text": [
            "Enter a list of numbers separated by spaces or commas: 2,4,6\n",
            "[[2 3 4]\n",
            " [4 5 6]\n",
            " [6 7 8]]\n"
          ]
        }
      ],
      "source": [
        "import numpy as np\n",
        "\n",
        "def create_array_from_list(input_list):\n",
        "    rows = []\n",
        "\n",
        "    for element in input_list:\n",
        "        row = [element + i for i in range(3)]\n",
        "        rows.append(row)\n",
        "\n",
        "    result_array = np.array(rows)\n",
        "\n",
        "    return result_array\n",
        "\n",
        "input_string = input(\"Enter a list of numbers separated by spaces or commas: \")\n",
        "\n",
        "input_list = input_string.replace(',', ' ').split()\n",
        "\n",
        "# Convert the elements to integers\n",
        "input_list = [int(x) for x in input_list]\n",
        "\n",
        "# Create the numpy array\n",
        "output_array = create_array_from_list(input_list)\n",
        "\n",
        "print(output_array)\n"
      ]
    },
    {
      "cell_type": "code",
      "source": [
        "import numpy as np\n",
        "\n",
        "# Task 1\n",
        "array1 = np.zeros(10, dtype=int)\n",
        "print(\"Array filled with 0s:\")\n",
        "print(array1)\n",
        "\n",
        "# Task 2\n",
        "array2 = np.ones((3, 5), dtype=float)\n",
        "print(\"\\n3x5 array filled with 1s:\")\n",
        "print(array2)\n",
        "\n",
        "# Task 3\n",
        "array3 = np.full((3, 5), 3.14)\n",
        "print(\"\\n3x5 array filled with 3.14:\")\n",
        "print(array3)\n",
        "\n",
        "# Task 4\n",
        "array4 = np.arange(0, 21, 2)\n",
        "print(\"\\nLinear sequence array:\")\n",
        "print(array4)\n",
        "\n",
        "# Task 5\n",
        "array5 = np.linspace(0, 1, 5)\n",
        "print(\"\\nArray with values evenly spaced between 0 and 1:\")\n",
        "print(array5)\n",
        "\n",
        "# Task 6\n",
        "array6 = np.random.rand(3, 3)\n",
        "print(\"\\n3x3 array of uniformly distributed pseudorandom values between 0 and 1:\")\n",
        "print(array6)\n",
        "\n",
        "# Task 7\n",
        "array7 = np.random.randn(3, 3)\n",
        "print(\"\\n3x3 array of normally distributed pseudorandom values with mean 0 and standard deviation 1:\")\n",
        "print(array7)\n",
        "\n",
        "# Task 8\n",
        "array8 = np.random.randint(0, 10, (3, 3))\n",
        "print(\"\\n3x3 array of pseudorandom integers in the interval [0, 10):\")\n",
        "print(array8)\n",
        "\n",
        "# Task 9\n",
        "identity_matrix = np.eye(3)\n",
        "print(\"\\n3x3 Identity Matrix:\")\n",
        "print(identity_matrix)\n",
        "\n",
        "# Task 10\n",
        "x2 = np.array([[12, 1, 3, 7], [4, 0, 2, 3], [0, 0, 6, 9]])\n",
        "new_array = x2[:2, :2]\n",
        "new_array[0, 0] = 100\n",
        "print(\"\\nModified new_array:\")\n",
        "print(new_array)\n",
        "print(\"\\nOriginal x2 array:\")\n",
        "print(x2)\n",
        "\n",
        "# Task 11\n",
        "x2_copy = x2[:, :].copy()\n",
        "x2_copy[0, 0] = 100\n",
        "print(\"\\nModified x2_copy:\")\n",
        "print(x2_copy)\n",
        "print(\"\\nOriginal x2 array (unchanged):\")\n",
        "print(x2)\n"
      ],
      "metadata": {
        "colab": {
          "base_uri": "https://localhost:8080/"
        },
        "id": "rUwFcv6ImCJJ",
        "outputId": "4796c2c2-1a39-47d4-a579-9a11de3bc698"
      },
      "execution_count": 2,
      "outputs": [
        {
          "output_type": "stream",
          "name": "stdout",
          "text": [
            "Array filled with 0s:\n",
            "[0 0 0 0 0 0 0 0 0 0]\n",
            "\n",
            "3x5 array filled with 1s:\n",
            "[[1. 1. 1. 1. 1.]\n",
            " [1. 1. 1. 1. 1.]\n",
            " [1. 1. 1. 1. 1.]]\n",
            "\n",
            "3x5 array filled with 3.14:\n",
            "[[3.14 3.14 3.14 3.14 3.14]\n",
            " [3.14 3.14 3.14 3.14 3.14]\n",
            " [3.14 3.14 3.14 3.14 3.14]]\n",
            "\n",
            "Linear sequence array:\n",
            "[ 0  2  4  6  8 10 12 14 16 18 20]\n",
            "\n",
            "Array with values evenly spaced between 0 and 1:\n",
            "[0.   0.25 0.5  0.75 1.  ]\n",
            "\n",
            "3x3 array of uniformly distributed pseudorandom values between 0 and 1:\n",
            "[[0.68613341 0.6752727  0.68671457]\n",
            " [0.01497611 0.96117101 0.73169479]\n",
            " [0.42814585 0.38035448 0.86855616]]\n",
            "\n",
            "3x3 array of normally distributed pseudorandom values with mean 0 and standard deviation 1:\n",
            "[[-0.63703488 -0.11178588  1.19596477]\n",
            " [ 0.91592207  0.55094288 -2.07716851]\n",
            " [ 0.21706613 -0.60977116 -1.26304404]]\n",
            "\n",
            "3x3 array of pseudorandom integers in the interval [0, 10):\n",
            "[[0 3 6]\n",
            " [6 3 5]\n",
            " [7 3 0]]\n",
            "\n",
            "3x3 Identity Matrix:\n",
            "[[1. 0. 0.]\n",
            " [0. 1. 0.]\n",
            " [0. 0. 1.]]\n",
            "\n",
            "Modified new_array:\n",
            "[[100   1]\n",
            " [  4   0]]\n",
            "\n",
            "Original x2 array:\n",
            "[[100   1   3   7]\n",
            " [  4   0   2   3]\n",
            " [  0   0   6   9]]\n",
            "\n",
            "Modified x2_copy:\n",
            "[[100   1   3   7]\n",
            " [  4   0   2   3]\n",
            " [  0   0   6   9]]\n",
            "\n",
            "Original x2 array (unchanged):\n",
            "[[100   1   3   7]\n",
            " [  4   0   2   3]\n",
            " [  0   0   6   9]]\n"
          ]
        }
      ]
    }
  ]
}